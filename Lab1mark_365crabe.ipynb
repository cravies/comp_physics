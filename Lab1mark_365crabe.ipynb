{
 "cells": [
  {
   "cell_type": "markdown",
   "metadata": {},
   "source": [
    "$\\def\\com#1{\\color{blue}{\\textrm{#1}}}$\n",
    "$\\com{Comments from the marker will appear like this.}$"
   ]
  },
  {
   "cell_type": "markdown",
   "metadata": {},
   "source": [
    "# Part 1: Intro to Julia\n",
    "In this lab you will get familiar with using Julia and the Jupyter notebook environment. \n",
    "\n",
    "You can submit your finished labs by dropping the notebook into `dropbox` on `pleiades`. **Rename your notebook to** `Lab1_yourloginname` before submitting it.\n",
    "\n",
    "**Due: 1pm Wednesday 7th March. **\n",
    "\n",
    "---\n",
    "\n",
    "This laboratory session is divided into two parts. The first part is for those who have never worked with `Matlab` or `Julia` before, or would like to refresh their memory, and it revises some basic features of Julia which may be familiar from `Matlab` usage.\n",
    "\n",
    "For this part of the lab session, you are only required to follow the steps in the notebook and answer the corresponding questions yourself. Make sure you understand why `Julia` does what it does. **Don't spend more than the first half of the lab on part 1**.\n",
    "\n",
    "Type the following commands (I will neglect the cell numbers) one-by-one into separate cells, and hit `shift+enter` to evaluate each cell. Check that you receive the same result:\n",
    "```julia\n",
    "In : 1\n",
    "Out: 1\n",
    "```\n",
    "```julia\n",
    "In : 1+1\n",
    "Out: 2\n",
    "```\n",
    "```julia\n",
    "In : 1+\n",
    "Out: syntax: incomplete: premature end of input\n",
    "```\n",
    "```julia\n",
    "In : ans\n",
    "Out: 2\n",
    "```\n",
    "```julia \n",
    "In : x=3\n",
    "Out: 3\n",
    "```\n",
    "Based on the first two inputs we may conclude that `Julia` can be used like any calculator. The second to last input shows that if no variable is assigned, it assigns the value of the calculation to `ans`. However, the third input produces an error message, telling us that our command was not a valid input that `Julia` could interpret. `Julia` tells us that the command ended prematurely, which is not suprising since addition needs two objects that are added together. \n",
    "\n",
    "As a matter of convenience, we can also see a summary of all defined variables and modules using `whos()`\n",
    "    \n",
    "```julia\n",
    "In : whos()\n",
    "Out: \n",
    "                          Base               Module\n",
    "                        Compat  19321 KB     Module\n",
    "                          Core               Module\n",
    "                        IJulia  19475 KB     Module\n",
    "                          JSON  19303 KB     Module\n",
    "                          Main               Module\n",
    "                       MbedTLS  19324 KB     Module\n",
    "                     Nullables   1120 bytes  Module\n",
    "                           ZMQ  19274 KB     Module\n",
    "                             x      8 bytes  Int64\n",
    "```\n",
    "\n",
    "Similarly to what we have done above, type each command in a separate cell below. "
   ]
  },
  {
   "cell_type": "markdown",
   "metadata": {},
   "source": [
    "1) Answer each question using text in a separate cell below each command.\n",
    "\n",
    "```julia\n",
    "a) cos(1) #does Julia use radians or degrees for trig functions?\n",
    "b) ?cos # how many related functions does Julia suggest?\n",
    "c) [1 2 3 4] # is there any difference between [1 2 3 4] and [1,2,3,4]?\n",
    "d) a = 1 # Julia confirms this command by returning the result. How do you suppress the output? (only needed for the last command in a sequence).\n",
    "e) b = [10 11 23 44]; b[3] #how do you refer to one element of a matrix? \n",
    "f) 5:9 #what does the : (colon) operator do?\n",
    "g) M = randn(4,3) # how can you create a random matrix of size 10x20?\n",
    "h) x=3; #can you write more than one command in a single line? If \"yes\", how?\n",
    "```"
   ]
  },
  {
   "cell_type": "raw",
   "metadata": {},
   "source": [
    "Question 1 Answers\n",
    "\n",
    "a) it uses radians\n",
    "\n",
    "b) 12: cos cosh cosd cosc cospi acos acosh acosd const consume cross close\n",
    "\n",
    "c) [1 2 3 4] is a row vector whilst [1,2,3,4] is a column vector\n",
    "\n",
    "d) put a semicolon after, i.e a = 1;\n",
    "\n",
    "e) b[3] grabs the third entry in the array as julia indexes from 1 up\n",
    "\n",
    "f) 5:9 specifies an iterator. This returns a range from 5 to 9 in a collect() call for example.\n",
    "\n",
    "g) M = randn(10,20)\n",
    "\n",
    "h) x=3;y=5; sets x and y on a single line"
   ]
  },
  {
   "cell_type": "markdown",
   "metadata": {},
   "source": [
    "2) Answer each question using text in a separate cell below each command.\n",
    "\n",
    "```julia\n",
    "a) v=1:4; u = collect(v) #how can we make a vector [1;2;...;1000] ?\n",
    "b) w = transpose(v); w = v' #how can we transpose a vector or matrix?\n",
    "c) x = rand(3,3)+im*rand(3,3); x'; x.' \n",
    "```\n",
    "```julia\n",
    "#what is the difference between ' and .'?\n",
    "d) M = rand(5,5); A=M[2:4,1:3] #what happens as a result of this command? Can you recognise the result in the matrix M?\n",
    "e) b = collect(1:12); B=reshape(b,3,4) #what does the second argument of reshape stand for? If you are unsure, can you use the help?\n",
    "```"
   ]
  },
  {
   "cell_type": "markdown",
   "metadata": {},
   "source": [
    "Question 2) answers  \n",
    "\n",
    "a) u = collect(1:1000)\n",
    "\n",
    "b) just put .' after the matrix, i.e\n",
    "if u = [1 2; 3 4] then u.' = [1 3 ; 2 4]\n",
    "\n",
    "c) x' is the conjugate transpose, whilst x.' is simply the transpose.\n",
    "\n",
    "d) this command initialises a 5x5 random matrix M and then builds another matrix from it A by grabbing a 3x3 matrix from the second to fourth row and the first to third column of M\n",
    "\n",
    "e) reshape takes the input matrix and reshapes it as a matrix of size (3,4). the three is the number of rows."
   ]
  },
  {
   "cell_type": "markdown",
   "metadata": {},
   "source": [
    "3) Choose \"Kernel\"; \"Restart and Clear Output\" from the menu above. Enter each command into a separate cell, and then answer the questions below\n",
    "```julia\n",
    "A = [1 1; -2 6]\n",
    "B = [3 -5;7 2]\n",
    "C = [1 2 3; 2 4 6; 10 11 12]\n",
    "1+A\n",
    "eye(A)+A\n",
    "A+B\n",
    "A-B\n",
    "A*B\n",
    "A.*B\n",
    "@. A*B\n",
    "A/B\n",
    "A./B\n",
    "A^2\n",
    "A.^2\n",
    "A.^B\n",
    "3.^A\n",
    "A+C\n",
    "```"
   ]
  },
  {
   "cell_type": "markdown",
   "metadata": {},
   "source": [
    "a) What does the second `2` in `2:2:6` mean?\n",
    "\n",
    "b) What is the difference between `*` and `.*`? How about `^` and `.^`?\n",
    "\n",
    "c) Check by explicit calculation how each element of `A.^B` is obtained by `Julia`.\n",
    "\n",
    "d) What is the result of `A+C`? Why?\n",
    "\n",
    "e) Find in the help system what the operator `/` does.\n",
    "\n",
    "f) Could you exponentiate `A` to `B`, i.e. `A^B`, or just element-wise? If \"no\", then what if the error message? If \"yes\", what is the result?"
   ]
  },
  {
   "cell_type": "markdown",
   "metadata": {},
   "source": [
    "Question 3) answers\n",
    "\n",
    "a) it means that it is stepping in increments of two\n",
    "\n",
    "b) * is scalar multiplication. .* is elementwise multiplication\n",
    "likewise ^ is raising a scalar to a power whilst .^ raises each element in a matrix to a power: see below"
   ]
  },
  {
   "cell_type": "markdown",
   "metadata": {},
   "source": [
    "$\\com{For two arrays A and B, A*B is matrix multiplication, while A.*B is pointwise multiplication.}$"
   ]
  },
  {
   "cell_type": "code",
   "execution_count": 1,
   "metadata": {},
   "outputs": [
    {
     "name": "stdout",
     "output_type": "stream",
     "text": [
      "[5 10; 15 10]\n",
      "[2 2; 6 2]\n",
      "[1 8; 27 8]\n",
      "25\n"
     ]
    }
   ],
   "source": [
    "A = [1 2; 3 2]; B = [2 1; 2 1];\n",
    "println(A*5)\n",
    "println(A.*B)\n",
    "println(A.^3)\n",
    "println(5^2)"
   ]
  },
  {
   "cell_type": "markdown",
   "metadata": {},
   "source": [
    "c) each entry in A is raised by the power of the scalar in the corresponding entry in B \n",
    "\n",
    "d) an error because the dimensions do not match\n",
    "\n",
    "e)  Right division operator: multiplication of x by the inverse of y on the\n",
    "  right. Gives floating-point results for integer arguments.\n",
    "  \n",
    "f) no, only element wise. \n",
    "\n",
    "ERROR: MethodError: no method matching ^(::Array{Int64,2}, ::Array{Int64,2})\n",
    "Closest candidates are:\n",
    "  ^(::AbstractArray{T,2}, ::Integer) where T at linalg/dense.jl:332\n",
    "  ^(::AbstractArray{T,2}, ::Real) where T at linalg/dense.jl:335\n",
    "  ^(::AbstractArray{T,2} where T, ::Number) at linalg/dense.jl:391\n",
    "  ...\n",
    "Stacktrace:\n",
    " [1] macro expansion at ./REPL.jl:97 [inlined]\n",
    " [2] (::Base.REPL.##1#2{Base.REPL.REPLBackend})() at ./event.jl:73\n"
   ]
  },
  {
   "cell_type": "markdown",
   "metadata": {},
   "source": [
    "# Part 2\n",
    "This second part of the lab contains 2 problems which you should solve and discuss in this `Jupyter` notebook. "
   ]
  },
  {
   "cell_type": "markdown",
   "metadata": {},
   "source": [
    "A. **To vectorise or not to vectorise**\n",
    "\n",
    "We want to calculate the sum of the reciprocals of the first ten thousand squares, i.e. \n",
    "\n",
    "$$s = 1^{-2}+2^{-2}+3^{-2}+\\dots +10000^{-2}$$\n",
    "\n",
    "Determine $s$ using `Julia` in three different ways. In the first solution, use a loop (`for` or `while`), inside a function, and call it. In the second, use only a single `Julia` expression to calculate $s$. In the third, wrap your single line expression in a function declaration and call it. \n",
    "\n",
    "Recall from lecture 2, that a function in `julia` is defined as, for example: \n",
    "\n",
    "```julia \n",
    "function f(x)\n",
    "    a = cos(x)\n",
    "    b = 3\n",
    "    return a,b\n",
    "end\n",
    "```\n",
    "and in this case, called as `a,b=f(3)`.\n",
    "\n",
    "Use the macro \n",
    "\n",
    "`@time myfunction(x)` \n",
    "\n",
    "to time the command `myfunction(x)` and learn about how long it took each to run. What can you say about the use of functions versus inline expressions in `julia`?\n",
    "\n",
    "**HINT:** Check the online `Julia` documentation about `for` and `while`."
   ]
  },
  {
   "cell_type": "markdown",
   "metadata": {},
   "source": [
    "$\\com{You will annoy a lot of people if you mix tabs and spaces for your indentation.}$\n",
    "$\\com{The most common indentation in Julia is 4 spaces, so I would advise to stick to that}$\n",
    "$\\com{(and jupyter should auto-indent using that anyway).}$"
   ]
  },
  {
   "cell_type": "code",
   "execution_count": 1,
   "metadata": {},
   "outputs": [
    {
     "name": "stdout",
     "output_type": "stream",
     "text": [
      "1.6448340718480652\n",
      "1.6448340718480614\n",
      "1.6448340718480614\n",
      "  0.000829 seconds (30.08 k allocations: 474.842 KiB)\n",
      "  0.022230 seconds (4.52 k allocations: 320.605 KiB, 31.17% gc time)\n",
      "  0.000001 seconds (3 allocations: 144 bytes)\n"
     ]
    },
    {
     "data": {
      "text/plain": [
       "f_single (generic function with 1 method)"
      ]
     },
     "execution_count": 1,
     "metadata": {},
     "output_type": "execute_result"
    }
   ],
   "source": [
    "function f_for(n)\n",
    "\tresult = 0\n",
    "\tfor i = 1:n\n",
    "\t\tresult += i^(-2.0)\n",
    "\tend\n",
    "\treturn result\n",
    "end\n",
    "\n",
    "sum((1:10000).^(-2.0))\n",
    "\n",
    "function f_single()\n",
    "    result = sum((1:10000).^(-2.0))\n",
    "    return result\n",
    "end\n",
    "\n",
    "println(f_for(10000.0))\n",
    "println(sum((1:10000).^(-2.0)))\n",
    "println(f_single())\n",
    "\n",
    "@time(f_for(10000.0))\n",
    "@time(sum((1:10000).^(-2.0)))\n",
    "@time(f_single)\n"
   ]
  },
  {
   "cell_type": "markdown",
   "metadata": {},
   "source": [
    "$\\com{Why do you give f_for two arguments on the third to last line? This breaks it.}$"
   ]
  },
  {
   "cell_type": "code",
   "execution_count": 3,
   "metadata": {},
   "outputs": [
    {
     "ename": "LoadError",
     "evalue": "\u001b[91msyntax: extra token \"are\" after end of expression\u001b[39m",
     "output_type": "error",
     "traceback": [
      "\u001b[91msyntax: extra token \"are\" after end of expression\u001b[39m",
      "",
      "Stacktrace:",
      " [1] \u001b[1minclude_string\u001b[22m\u001b[22m\u001b[1m(\u001b[22m\u001b[22m::String, ::String\u001b[1m)\u001b[22m\u001b[22m at \u001b[1m./loading.jl:522\u001b[22m\u001b[22m"
     ]
    }
   ],
   "source": [
    "#functions are obviously much faster than inline expressions...."
   ]
  },
  {
   "cell_type": "markdown",
   "metadata": {},
   "source": [
    "$\\com{Please do not write text into a code block unless it is a comment, and it is commented.}$"
   ]
  },
  {
   "cell_type": "markdown",
   "metadata": {},
   "source": [
    "---\n",
    "B. **Scoping the scope**\n",
    "\n",
    "Before we discuss the problem for part B of this lab, it is important to undestand scoping rules for functions. \n",
    "\n",
    "One of the interesting features of `julia` is that the way functions and the function barrier are defined is slightly different than most other languages. \n",
    "\n",
    "Most languages have functions that are totally private, but the privacy can be circumvented with global variables that available everywhere. The trouble with this is that it makes code cumbersome, and it makes the job of the compiler much *much* harder. \n",
    "\n",
    "`Julia` functions have what is known as **lexical scope**. This means that the **function barrier** is permiable in a very special way that makes programming a lot smoother once you understand it. \n",
    "\n",
    "> **Lexical scope:** Julia functions have access to all variables in the workspace at the level of scope where the function is first *defined*.  \n",
    "\n",
    "An example will speak volumes here. Let's define a function:"
   ]
  },
  {
   "cell_type": "code",
   "execution_count": 4,
   "metadata": {},
   "outputs": [
    {
     "data": {
      "text/plain": [
       "f (generic function with 1 method)"
      ]
     },
     "execution_count": 4,
     "metadata": {},
     "output_type": "execute_result"
    }
   ],
   "source": [
    "function f(x)\n",
    "    z = x + y\n",
    "    return z\n",
    "end"
   ]
  },
  {
   "cell_type": "code",
   "execution_count": 5,
   "metadata": {},
   "outputs": [
    {
     "ename": "LoadError",
     "evalue": "\u001b[91mUndefVarError: y not defined\u001b[39m",
     "output_type": "error",
     "traceback": [
      "\u001b[91mUndefVarError: y not defined\u001b[39m",
      "",
      "Stacktrace:",
      " [1] \u001b[1mf\u001b[22m\u001b[22m\u001b[1m(\u001b[22m\u001b[22m::Int64\u001b[1m)\u001b[22m\u001b[22m at \u001b[1m./In[4]:2\u001b[22m\u001b[22m",
      " [2] \u001b[1minclude_string\u001b[22m\u001b[22m\u001b[1m(\u001b[22m\u001b[22m::String, ::String\u001b[1m)\u001b[22m\u001b[22m at \u001b[1m./loading.jl:522\u001b[22m\u001b[22m"
     ]
    }
   ],
   "source": [
    "f(1) #if we call it before y is defined, an error results"
   ]
  },
  {
   "cell_type": "code",
   "execution_count": 6,
   "metadata": {},
   "outputs": [
    {
     "data": {
      "text/plain": [
       "2"
      ]
     },
     "execution_count": 6,
     "metadata": {},
     "output_type": "execute_result"
    }
   ],
   "source": [
    "y=2 #define a value for y at the same level of \"scope\" as f(x)"
   ]
  },
  {
   "cell_type": "code",
   "execution_count": 7,
   "metadata": {},
   "outputs": [
    {
     "data": {
      "text/plain": [
       "3"
      ]
     },
     "execution_count": 7,
     "metadata": {},
     "output_type": "execute_result"
    }
   ],
   "source": [
    "f(1) #now we can use y as if it was inside the function."
   ]
  },
  {
   "cell_type": "markdown",
   "metadata": {},
   "source": [
    "This may seem unsettling at first, but remember: if you declare a variable in your function header, that variable *will* be private to the function, i.e:"
   ]
  },
  {
   "cell_type": "code",
   "execution_count": 8,
   "metadata": {},
   "outputs": [
    {
     "data": {
      "text/plain": [
       "F (generic function with 1 method)"
      ]
     },
     "execution_count": 8,
     "metadata": {},
     "output_type": "execute_result"
    }
   ],
   "source": [
    "function F(x,y)\n",
    "    z = x + y\n",
    "    return z\n",
    "end"
   ]
  },
  {
   "cell_type": "code",
   "execution_count": 9,
   "metadata": {},
   "outputs": [
    {
     "ename": "LoadError",
     "evalue": "\u001b[91mUndefVarError: x not defined\u001b[39m",
     "output_type": "error",
     "traceback": [
      "\u001b[91mUndefVarError: x not defined\u001b[39m",
      "",
      "Stacktrace:",
      " [1] \u001b[1minclude_string\u001b[22m\u001b[22m\u001b[1m(\u001b[22m\u001b[22m::String, ::String\u001b[1m)\u001b[22m\u001b[22m at \u001b[1m./loading.jl:522\u001b[22m\u001b[22m"
     ]
    }
   ],
   "source": [
    "F(x,y)"
   ]
  },
  {
   "cell_type": "code",
   "execution_count": 10,
   "metadata": {},
   "outputs": [
    {
     "data": {
      "text/plain": [
       "π = 3.1415926535897..."
      ]
     },
     "execution_count": 10,
     "metadata": {},
     "output_type": "execute_result"
    }
   ],
   "source": [
    "#whoops, we forgot to define x:\n",
    "x=pi"
   ]
  },
  {
   "cell_type": "code",
   "execution_count": 11,
   "metadata": {},
   "outputs": [
    {
     "data": {
      "text/plain": [
       "5.141592653589793"
      ]
     },
     "execution_count": 11,
     "metadata": {},
     "output_type": "execute_result"
    }
   ],
   "source": [
    "F(x,y)"
   ]
  },
  {
   "cell_type": "code",
   "execution_count": 12,
   "metadata": {},
   "outputs": [
    {
     "data": {
      "text/plain": [
       "21"
      ]
     },
     "execution_count": 12,
     "metadata": {},
     "output_type": "execute_result"
    }
   ],
   "source": [
    "F(10,11) #now y is totally private to F!"
   ]
  },
  {
   "cell_type": "markdown",
   "metadata": {},
   "source": [
    "This part of the lab will involve investigating some function behavior and scoping rules. \n",
    "\n",
    "a) Define a function `G(n)` that returns the `n`-th power of a variable `u`, defined outside of `G`. \n",
    "\n",
    "b) Define `u` as the `n`-th root of `pi` and check your function behaves as it should for n=10.\n",
    "\n",
    "c) Now call `G(n)` inside another function `H(n)` that returns the square of `G`. Evaluate `H(3)` for `u=1` and `u=2`. Explain your results."
   ]
  },
  {
   "cell_type": "code",
   "execution_count": 13,
   "metadata": {},
   "outputs": [
    {
     "data": {
      "text/plain": [
       "3.1415926535897905"
      ]
     },
     "execution_count": 13,
     "metadata": {},
     "output_type": "execute_result"
    }
   ],
   "source": [
    "#part a and b\n",
    "u = pi^(1/10)\n",
    "\n",
    "function G(n)\n",
    "\tresult = u^n\n",
    "\treturn result\n",
    "end\n",
    "\n",
    "G(10)"
   ]
  },
  {
   "cell_type": "code",
   "execution_count": 14,
   "metadata": {},
   "outputs": [
    {
     "name": "stdout",
     "output_type": "stream",
     "text": [
      "1.0\n",
      "64.0\n"
     ]
    }
   ],
   "source": [
    "#part c\n",
    "u = pi^(1/10)\n",
    "\n",
    "function G(n)\n",
    "\tresult = u^n\n",
    "\treturn result\n",
    "end\n",
    "\n",
    "function H(n)\n",
    "\tvar = G(n); return var^(2.0)\n",
    "end\n",
    "\n",
    "u = 1\n",
    "println(H(3))\n",
    "u = 2\n",
    "println(H(3))"
   ]
  },
  {
   "cell_type": "markdown",
   "metadata": {},
   "source": [
    "FIRST RESULT: \n",
    "For the first one, we set u=1. We then call H(3) which sets var to G(N). N in this case is 3. G returns u^n, which in this case is 1^3 = 1. Now H returns var^(2.0) which in this case is 1^2 which gives us 1 in the end.\n",
    "\n",
    "SECOND RESULT:\n",
    "For the first one, we set u = 2. We then call H(3) which sets var to G(N). N in this case is 3. G returns u^n, which is 2^3 or 8. So now var =8. Now H(n) returns var^2, which in this case is 8^2, i.e 64. \n"
   ]
  },
  {
   "cell_type": "markdown",
   "metadata": {},
   "source": [
    "$\\com{Good explaination, but a bit overkill.}$"
   ]
  },
  {
   "cell_type": "markdown",
   "metadata": {},
   "source": [
    "$\\com{4.5/5 Excellent!}$"
   ]
  },
  {
   "cell_type": "code",
   "execution_count": null,
   "metadata": {},
   "outputs": [],
   "source": []
  }
 ],
 "metadata": {
  "kernelspec": {
   "display_name": "Julia 0.6.2",
   "language": "julia",
   "name": "julia-0.6"
  },
  "language_info": {
   "file_extension": ".jl",
   "mimetype": "application/julia",
   "name": "julia",
   "version": "0.6.2"
  }
 },
 "nbformat": 4,
 "nbformat_minor": 2
}
